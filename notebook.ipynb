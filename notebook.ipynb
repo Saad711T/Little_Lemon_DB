{
 "cells": [
  {
   "cell_type": "markdown",
   "metadata": {},
   "source": [
    "# Little Lemon notebook analysing"
   ]
  },
  {
   "cell_type": "markdown",
   "metadata": {},
   "source": [
    "By : Saad Almalki"
   ]
  },
  {
   "cell_type": "markdown",
   "metadata": {},
   "source": [
    "### Import Libraries :"
   ]
  },
  {
   "cell_type": "code",
   "execution_count": null,
   "metadata": {},
   "outputs": [],
   "source": [
    "import mysql.connector\n",
    "import pandas as pd"
   ]
  },
  {
   "cell_type": "markdown",
   "metadata": {},
   "source": [
    "### Connect with MySQL Database"
   ]
  },
  {
   "cell_type": "code",
   "execution_count": null,
   "metadata": {},
   "outputs": [],
   "source": [
    "def connect_to_db():\n",
    "    return mysql.connector.connect(\n",
    "        host='localhost',\n",
    "        user='admin',\n",
    "        password='admin',\n",
    "        database='Little_lemondb'\n",
    "    )"
   ]
  },
  {
   "cell_type": "markdown",
   "metadata": {},
   "source": [
    "### Retrieve data :"
   ]
  },
  {
   "cell_type": "code",
   "execution_count": null,
   "metadata": {},
   "outputs": [],
   "source": [
    "def fetch_data(query):\n",
    "    conn = connect_to_db()\n",
    "    cursor = conn.cursor()\n",
    "    cursor.execute(query)\n",
    "    data = cursor.fetchall()\n",
    "    columns = [desc[0] for desc in cursor.description]\n",
    "    df = pd.DataFrame(data, columns=columns)\n",
    "    cursor.close()\n",
    "    conn.close()\n",
    "    return df\n",
    "\n",
    "def get_customers():\n",
    "    query = \"SELECT * FROM Customers;\"\n",
    "    return fetch_data(query)\n",
    "\n",
    "def get_orders():\n",
    "    query = \"SELECT * FROM Orders;\"\n",
    "    return fetch_data(query)\n",
    "\n",
    "def analyze_orders_by_customers():\n",
    "    df_orders = get_orders()\n",
    "    df_customers = get_customers()\n",
    "    \n",
    "    merged_df = df_orders.merge(df_customers, left_on='CustomerID', right_on='CustomerID')\n",
    "    order_counts = merged_df.groupby('CustomerName')['OrderID'].count().reset_index()\n",
    "    order_counts = order_counts.sort_values(by='OrderID', ascending=False)\n",
    "    \n",
    "def analyze_sales_by_month():\n",
    "    df_orders = get_orders()\n",
    "    df_orders['OrderDate'] = pd.to_datetime(df_orders['OrderDate'])\n",
    "    df_orders['Month'] = df_orders['OrderDate'].dt.strftime('%Y-%m')"
   ]
  },
  {
   "cell_type": "code",
   "execution_count": null,
   "metadata": {},
   "outputs": [],
   "source": [
    "if __name__ == \"__main__\":\n",
    "    print(\"Analyzing orders by customers\")\n",
    "    analyze_orders_by_customers()\n",
    "    \n",
    "    print(\"Analyzing sales by month\")\n",
    "    analyze_sales_by_month()"
   ]
  }
 ],
 "metadata": {
  "kernelspec": {
   "display_name": "Python 3",
   "language": "python",
   "name": "python3"
  },
  "language_info": {
   "codemirror_mode": {
    "name": "ipython",
    "version": 3
   },
   "file_extension": ".py",
   "mimetype": "text/x-python",
   "name": "python",
   "nbconvert_exporter": "python",
   "pygments_lexer": "ipython3",
   "version": "3.12.9"
  }
 },
 "nbformat": 4,
 "nbformat_minor": 2
}
